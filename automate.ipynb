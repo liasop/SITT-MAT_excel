{
 "cells": [
  {
   "cell_type": "code",
   "execution_count": null,
   "id": "937a5996-d36a-4792-9627-c057e08555cf",
   "metadata": {},
   "outputs": [],
   "source": [
    "import openpyxl\n",
    "import pandas as pd\n",
    "import numpy as np\n",
    "import os \n",
    "\n",
    "import requests\n",
    "from io import StringIO\n",
    "import yaml\n"
   ]
  },
  {
   "cell_type": "code",
   "execution_count": null,
   "id": "2df69fb8-75dd-40e6-bc98-7ffb7fc1121b",
   "metadata": {},
   "outputs": [],
   "source": [
    "file_name = \"may2024\""
   ]
  },
  {
   "cell_type": "code",
   "execution_count": null,
   "id": "a1510c71-e33e-43c8-8f8c-2afa171477a2",
   "metadata": {},
   "outputs": [],
   "source": [
    "# Function to load API keys from a YAML file\n",
    "def load_api_keys(filepath):\n",
    "    with open(filepath, 'r') as file:\n",
    "        secrets = yaml.safe_load(file)\n",
    "    return secrets\n",
    "\n",
    "# Load the API keys\n",
    "secrets_filepath = 'secrets.yaml'  # Path to your secrets.yaml file\n",
    "secrets = load_api_keys(secrets_filepath)\n",
    "\n",
    "# Access the API keys\n",
    "api_url = secrets['redcap']['api_url']\n",
    "redcap_PC_key = secrets['redcap']['redcap_PC_key']\n",
    "redcap_SC_key = secrets['redcap']['redcap_SC_key']\n"
   ]
  },
  {
   "cell_type": "code",
   "execution_count": null,
   "id": "ac0ba6ee-d822-4da3-981f-57d5983d2e62",
   "metadata": {},
   "outputs": [],
   "source": [
    "# Data payload for the request, specifying the report ID\n",
    "data_sc = {\n",
    "    'token': redcap_SC_key,\n",
    "    'content': 'report',\n",
    "    'format': 'csv',   \n",
    "    'report_id': 119747, \n",
    "    'rawOrLabel': 'raw',  \n",
    "    'rawOrLabelHeaders': 'raw',  \n",
    "    'exportCheckboxLabel': 'false', \n",
    "    'returnFormat': 'json'\n",
    "}\n",
    "\n",
    "# Data payload for the request, specifying the report ID\n",
    "data_pc = {\n",
    "    'token': redcap_PC_key,\n",
    "    'content': 'report',\n",
    "    'format': 'csv',   \n",
    "    'report_id': 119745,\n",
    "    'rawOrLabel': 'raw',  \n",
    "    'rawOrLabelHeaders': 'raw',  \n",
    "    'exportCheckboxLabel': 'false',  \n",
    "    'returnFormat': 'json'\n",
    "}\n",
    "\n",
    "# Make the POST request\n",
    "response_sc = requests.post(api_url, data=data_sc)\n",
    "response_pc = requests.post(api_url, data=data_pc)\n",
    "\n",
    "# Check if the request was successful\n",
    "if response_sc.status_code == 200 & response_pc.status_code == 200:\n",
    "    df_sc = pd.read_csv(StringIO(response_sc.text))\n",
    "    df_pc = pd.read_csv(StringIO(response_pc.text))\n",
    "else:\n",
    "    print(f\"Failed to retrieve data: {response.status_code}\")"
   ]
  },
  {
   "cell_type": "code",
   "execution_count": null,
   "id": "f40679b7-f0f4-488b-9d69-0a95c90e5ed3",
   "metadata": {},
   "outputs": [],
   "source": [
    "# PC\n",
    "# #df = pd.read_csv('StagewiseImplementat-APIIMATAllItems_DATA_2024-02-19_1149.csv')\n",
    "\n",
    "# #SC\n",
    "# df = pd.read_csv('StagewiseImplementat-APIIMATAllItems_DATA_2024-03-05_0922.csv')"
   ]
  },
  {
   "cell_type": "code",
   "execution_count": null,
   "id": "37105a70-9bf9-40b7-8ebf-1dbc1a2a640a",
   "metadata": {},
   "outputs": [],
   "source": [
    "c_type = 'SC'"
   ]
  },
  {
   "cell_type": "code",
   "execution_count": null,
   "id": "1ca92a04-a48c-4efe-9ff3-3eea56e03719",
   "metadata": {},
   "outputs": [],
   "source": [
    "if c_type == 'SC':\n",
    "    df = df_sc\n",
    "else:\n",
    "    df = df_pc"
   ]
  },
  {
   "cell_type": "code",
   "execution_count": null,
   "id": "9df67dec-7515-427f-ab15-987edb197233",
   "metadata": {},
   "outputs": [],
   "source": [
    "df['program_id'].value_counts()"
   ]
  },
  {
   "cell_type": "code",
   "execution_count": null,
   "id": "25e512fe-72b0-4c38-bc13-9611711d2b99",
   "metadata": {},
   "outputs": [],
   "source": [
    "# Specify the file path of the Excel file\n",
    "# file_path = 'SITT-MAT Academy/SITT-MAT_IMAT-PC Profile by Sites_v.2.xlsx'\n",
    "if c_type == 'PC':\n",
    "    file_path = 'SITT-MAT_IMAT-PC Profile by Sites_No Graph_with LBC.xlsx'\n",
    "else:\n",
    "    file_path = 'SITT-MAT_IMAT-SC Profile by Sites_No Graph_with LBC.xlsx'\n",
    "\n",
    "# Open the Excel file\n",
    "workbook = openpyxl.load_workbook(filename=file_path)\n",
    "\n",
    "# Get the sheet names within the workbook\n",
    "sheet_names = workbook.sheetnames\n",
    "\n",
    "# Print the sheet names\n",
    "for sheet_name in sheet_names:\n",
    "    print(sheet_name)"
   ]
  },
  {
   "cell_type": "code",
   "execution_count": null,
   "id": "35364f12-46da-4649-b1fb-facb67aea5c4",
   "metadata": {},
   "outputs": [],
   "source": [
    "df.head()"
   ]
  },
  {
   "cell_type": "code",
   "execution_count": null,
   "id": "aa8008bc-ecba-4620-a153-00094ff5cbf2",
   "metadata": {},
   "outputs": [],
   "source": [
    "\n",
    "# Load the Excel file\n",
    "df_template = pd.read_excel('SITT-MAT_IMAT-PC Profile by Sites_No Graph_with LBC.xlsx')\n",
    "df_template"
   ]
  },
  {
   "cell_type": "code",
   "execution_count": null,
   "id": "6f8855f7-d98c-4b94-b1c5-f8e5e8db5b24",
   "metadata": {},
   "outputs": [],
   "source": [
    "# keep only the columns we want\n",
    "# Use list comprehension to preserve order and duplicates from list1\n",
    "intersection = [item for item in df.columns if item in df_template.columns]\n",
    "\n",
    "df = df[intersection]\n",
    "# filter out nans\n",
    "df = df[df['imat_d1_1'] == df['imat_d1_1']]\n",
    "\n",
    "# only keep last survey of each id\n",
    "df = df.groupby('program_id').last().reset_index()\n",
    "\n"
   ]
  },
  {
   "cell_type": "code",
   "execution_count": null,
   "id": "bd5eb52a-d88e-443b-8db2-bacd785fa5cc",
   "metadata": {},
   "outputs": [],
   "source": [
    "def clear_folder(folder_path):\n",
    "    # Iterate over all the files and subdirectories in the folder\n",
    "    for root, dirs, files in os.walk(folder_path):\n",
    "        for file in files:\n",
    "            file_path = os.path.join(root, file)\n",
    "            # Delete the file\n",
    "            os.remove(file_path)\n",
    "        for dir in dirs:\n",
    "            dir_path = os.path.join(root, dir)\n",
    "            # Delete the directory and its contents recursively\n",
    "            os.rmdir(dir_path)\n"
   ]
  },
  {
   "cell_type": "code",
   "execution_count": null,
   "id": "800c1a36-8455-4570-9146-d66886b934aa",
   "metadata": {},
   "outputs": [],
   "source": [
    "folder_path = 'sheets_out/' + file_name\n",
    "# Call the clear_folder function\n",
    "clear_folder(folder_path)"
   ]
  },
  {
   "cell_type": "code",
   "execution_count": null,
   "id": "c00a52e4-f9f8-427c-b5b0-415d92867423",
   "metadata": {},
   "outputs": [],
   "source": [
    "\n",
    "for index, row in df.iterrows():\n",
    "    if row['imat_d1_1'] == row['imat_d1_1']:\n",
    "        # Create a new workbook\n",
    "        new_workbook = openpyxl.load_workbook(filename=file_path)\n",
    "\n",
    "        # Get the sheet names within the workbook\n",
    "        sheet_names = new_workbook.sheetnames\n",
    "        # print(sheet_names)\n",
    "        \n",
    "        if c_type == 'PC':\n",
    "            new_workbook.remove(new_workbook['Linked PC Summary Report Data'])\n",
    "        else:\n",
    "            new_workbook.remove(new_workbook['Linked SC Summary Report Data'])\n",
    "\n",
    "        # new_workbook.remove(new_workbook['Sheet1'])\n",
    "        \n",
    "        if c_type == 'PC':\n",
    "            # insert this new sheet and export \n",
    "            linked_sheet = new_workbook.create_sheet(title='Linked PC Summary Report Data')\n",
    "        else:\n",
    "            linked_sheet = new_workbook.create_sheet(title='Linked SC Summary Report Data')\n",
    "\n",
    "        # Get the values from the DataFrame row\n",
    "        row_values = row.values\n",
    "\n",
    "        # Determine the row index to insert the values\n",
    "        row_index = linked_sheet.max_row + 1\n",
    "        \n",
    "        # Write the row values to the sheet\n",
    "        for col_num, value in enumerate(row_values, start=1):\n",
    "            linked_sheet.cell(row=row_index, column=col_num).value = value\n",
    "\n",
    "        # Move the new sheet to the first position\n",
    "        new_workbook.move_sheet(linked_sheet, offset=-1)\n",
    "        \n",
    "        event_info = row['redcap_event_name'].split('_')\n",
    "        # Save the workbook\n",
    "        \n",
    "        if c_type == 'PC':\n",
    "            new_workbook.save(folder_path + '/SITT-MAT_IMAT-PC Profile - ' + row['program_id'] + '-' + event_info[0] + event_info[1] + '.xlsx')\n",
    "        else:\n",
    "            new_workbook.save(folder_path + '/SITT-MAT_IMAT-SC Profile - ' + row['program_id'] + '-' + event_info[0] + event_info[1] + '.xlsx')\n"
   ]
  },
  {
   "cell_type": "code",
   "execution_count": null,
   "id": "c1a2a542-4815-4265-829f-32aa8543dfea",
   "metadata": {},
   "outputs": [],
   "source": [
    "# !cp -r \"sheets_out/\" + file_name + \"/SITT-MAT_IMAT-SC Profile - id45-nov2023.xlsx\" \"/Users/liachin-purcell/Library/CloudStorage/Box-Box/McGovern Lab/MAT for OUD/SITT-MAT/03. EMF/February 2024/IMAT Excels/SUD\""
   ]
  },
  {
   "cell_type": "code",
   "execution_count": null,
   "id": "87f715d4-dc9f-4d92-bbd4-1a921489766f",
   "metadata": {},
   "outputs": [],
   "source": []
  }
 ],
 "metadata": {
  "kernelspec": {
   "display_name": "Python 3 (ipykernel)",
   "language": "python",
   "name": "python3"
  },
  "language_info": {
   "codemirror_mode": {
    "name": "ipython",
    "version": 3
   },
   "file_extension": ".py",
   "mimetype": "text/x-python",
   "name": "python",
   "nbconvert_exporter": "python",
   "pygments_lexer": "ipython3",
   "version": "3.9.9"
  }
 },
 "nbformat": 4,
 "nbformat_minor": 5
}
